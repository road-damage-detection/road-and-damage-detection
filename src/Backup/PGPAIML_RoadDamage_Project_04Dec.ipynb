{
 "cells": [
  {
   "cell_type": "code",
   "execution_count": null,
   "metadata": {},
   "outputs": [],
   "source": [
    "import numpy as np\n",
    "import pandas as pd\n",
    "import tensorflow as tf\n",
    "import keras\n",
    "import cv2\n",
    "import os\n",
    "from glob import glob\n",
    "import json\n",
    "import os.path as osp\n",
    "import sys\n",
    "import math\n",
    "import PIL.Image\n",
    "import PIL.ImageDraw\n",
    "import io"
   ]
  },
  {
   "cell_type": "code",
   "execution_count": null,
   "metadata": {},
   "outputs": [],
   "source": [
    "import sys"
   ]
  },
  {
   "cell_type": "code",
   "execution_count": null,
   "metadata": {},
   "outputs": [],
   "source": [
    "sys.path.insert(0, 'A:\\My Learning\\Python\\GL-PGPAIML\\Capstone Project\\Road_Damage\\src')"
   ]
  },
  {
   "cell_type": "code",
   "execution_count": 2,
   "metadata": {},
   "outputs": [],
   "source": [
    "from labelmeUtil import generateMaskImage\n",
    "from dataset import roadDamagedataset as ds"
   ]
  },
  {
   "cell_type": "code",
   "execution_count": null,
   "metadata": {},
   "outputs": [],
   "source": [
    "input_dir=r\"A:\\My Learning\\Python\\GL-PGPAIML\\Capstone Project\\Data\\release_version_v1\\leftImg8bit\\train\"\n",
    "output_dir=r\"A:\\My Learning\\Python\\GL-PGPAIML\\Capstone Project\\Data\\output\\train\"\n",
    "generateMaskImage(input_dir,output_dir)"
   ]
  },
  {
   "cell_type": "code",
   "execution_count": 4,
   "metadata": {},
   "outputs": [],
   "source": [
    "input_dir=r\"A:\\My Learning\\Python\\GL-PGPAIML\\Capstone Project\\Data\\release_version_v1\\leftImg8bit\\train\"\n",
    "output_dir=r\"A:\\My Learning\\Python\\GL-PGPAIML\\Capstone Project\\Data\\output\\train\""
   ]
  },
  {
   "cell_type": "code",
   "execution_count": null,
   "metadata": {},
   "outputs": [],
   "source": [
    "import numpy as np\n",
    "import os\n",
    "from glob import glob\n",
    "import json\n",
    "import os.path as osp\n",
    "import sys\n",
    "from PIL import Image\n",
    "\n",
    "EXTENSIONS = ['.jpg', '.png']\n",
    "\n",
    "def load_image(file):\n",
    "    return Image.open(file)\n",
    "\n",
    "def is_image(filename,folder,root):\n",
    "    print(folder)\n",
    "    print(root)\n",
    "    return any(filename.endswith(ext) for ext in EXTENSIONS)\n",
    "\n",
    "def is_label(filename):\n",
    "    return any(filename.endswith(ext) for ext in EXTENSIONS)\n",
    "\n",
    "def image_path(root, basename, extension):\n",
    "    return os.path.join(root, basename+extension)\n",
    "\n",
    "def image_path_city(root, name):\n",
    "    return os.path.join(root, name)\n",
    "\n",
    "def image_basename(filename):\n",
    "    return os.path.basename(os.path.splitext(filename)[0])\n",
    "\n",
    "def load_data(input_dir,output_dir):\n",
    "    dataset_train=roadDamagedataset(input_dir,output_dir)\n",
    "    length=len(dataset_train)\n",
    "    print('Dataset Length : ',length)\n",
    "    img_list = []\n",
    "    lbl_list = []\n",
    "    for i in range(length):\n",
    "        img,lbl=dataset_train[i]\n",
    "        img_list.append(img)\n",
    "        lbl_list.append(lbl)\n",
    "    \n",
    "    return img_list, lbl_list\n",
    "        \n",
    "    "
   ]
  },
  {
   "cell_type": "code",
   "execution_count": null,
   "metadata": {},
   "outputs": [],
   "source": [
    "import numpy as np\n",
    "import os\n",
    "from glob import glob\n",
    "import json\n",
    "import os.path as osp\n",
    "import sys\n",
    "from PIL import Image\n",
    "\n",
    "class roadDamagedataset():\n",
    "\n",
    "    def __init__(self, imagesFolderPath, labelsFolderPath):\n",
    "        self.images_root = imagesFolderPath\n",
    "        self.labels_root = labelsFolderPath\n",
    "        \n",
    "    def load_data(self):\n",
    "        img=[]\n",
    "        lbl=[]\n",
    "        labelsFolder=self.labels_root\n",
    "        imagesFolder = self.images_root\n",
    "        listOfFiles = os.listdir(labelsFolder)\n",
    "        \n",
    "        for l in listOfFiles:\n",
    "            outputFolder = labelsFolder + \"/\" + l\n",
    "            inputFolder = imagesFolder + \"/\" + l\n",
    "            if (os.path.isdir(outputFolder)):\n",
    "                for label_file in glob(osp.join(outputFolder, '*.png')):\n",
    "                    with open(label_file) as f:\n",
    "                        base = osp.splitext(osp.basename(label_file))[0]\n",
    "                        img_file = osp.join(inputFolder, base + '.png')\n",
    "                        if(os.path.isfile(img_file)):\n",
    "                            lbl.append(np.asarray(Image.open(f.name)))\n",
    "                            img.append(np.asarray(Image.open(img_file)))\n",
    "                            \n",
    "        return np.asarray(img),np.asarray(lbl)\n",
    "  "
   ]
  },
  {
   "cell_type": "code",
   "execution_count": 5,
   "metadata": {
    "scrolled": true
   },
   "outputs": [],
   "source": [
    "data=ds(input_dir,output_dir)"
   ]
  },
  {
   "cell_type": "code",
   "execution_count": null,
   "metadata": {},
   "outputs": [],
   "source": [
    "data=ds.roadDamagedataset(input_dir,output_dir)"
   ]
  },
  {
   "cell_type": "code",
   "execution_count": null,
   "metadata": {},
   "outputs": [],
   "source": [
    "da"
   ]
  },
  {
   "cell_type": "code",
   "execution_count": 6,
   "metadata": {},
   "outputs": [],
   "source": [
    "img,lbl=data.load_data()"
   ]
  },
  {
   "cell_type": "code",
   "execution_count": null,
   "metadata": {},
   "outputs": [],
   "source": [
    "img=None\n",
    "lbl=None"
   ]
  },
  {
   "cell_type": "code",
   "execution_count": null,
   "metadata": {},
   "outputs": [],
   "source": [
    "img1=np.asarray(img)"
   ]
  },
  {
   "cell_type": "code",
   "execution_count": 7,
   "metadata": {},
   "outputs": [
    {
     "data": {
      "text/plain": [
       "(218, 1024, 2048, 3)"
      ]
     },
     "execution_count": 7,
     "metadata": {},
     "output_type": "execute_result"
    }
   ],
   "source": [
    "img.shape"
   ]
  },
  {
   "cell_type": "code",
   "execution_count": 8,
   "metadata": {},
   "outputs": [
    {
     "data": {
      "text/plain": [
       "(218, 1024, 2048)"
      ]
     },
     "execution_count": 8,
     "metadata": {},
     "output_type": "execute_result"
    }
   ],
   "source": [
    "lbl.shape"
   ]
  },
  {
   "cell_type": "code",
   "execution_count": null,
   "metadata": {},
   "outputs": [],
   "source": [
    "import matplotlib.pyplot as plt"
   ]
  },
  {
   "cell_type": "code",
   "execution_count": null,
   "metadata": {},
   "outputs": [],
   "source": [
    "plt.imshow(lbl[0])"
   ]
  },
  {
   "cell_type": "code",
   "execution_count": null,
   "metadata": {},
   "outputs": [],
   "source": []
  },
  {
   "cell_type": "code",
   "execution_count": null,
   "metadata": {},
   "outputs": [],
   "source": [
    "img = Image.fromarray(img1[0], 'RGB')\n",
    "img.show()"
   ]
  },
  {
   "cell_type": "code",
   "execution_count": null,
   "metadata": {},
   "outputs": [],
   "source": [
    "listOfFiles = os.listdir(output_dir)"
   ]
  },
  {
   "cell_type": "code",
   "execution_count": null,
   "metadata": {},
   "outputs": [],
   "source": [
    "listOfFiles"
   ]
  },
  {
   "cell_type": "code",
   "execution_count": null,
   "metadata": {},
   "outputs": [],
   "source": [
    "for l in listOfFiles:\n",
    "            outputFolder = output_dir + \"/\" + l\n",
    "            inputFolder = input_dir + \"/\" + l\n",
    "            if (os.path.isdir(outputFolder)):\n",
    "                for label_file in glob(osp.join(outputFolder, '*.png')):\n",
    "                    with open(label_file) as f:\n",
    "                        print(f.name)"
   ]
  },
  {
   "cell_type": "code",
   "execution_count": null,
   "metadata": {},
   "outputs": [],
   "source": [
    " img_data[0].size"
   ]
  },
  {
   "cell_type": "code",
   "execution_count": null,
   "metadata": {},
   "outputs": [],
   "source": [
    "img = Image.fromarray(img_data[0], 'RGB')\n",
    "img.show()"
   ]
  },
  {
   "cell_type": "code",
   "execution_count": null,
   "metadata": {},
   "outputs": [],
   "source": [
    "for i in dataset_train:\n",
    "    print(i)"
   ]
  },
  {
   "cell_type": "code",
   "execution_count": null,
   "metadata": {},
   "outputs": [],
   "source": [
    "img,lbl=dataset_train"
   ]
  },
  {
   "cell_type": "code",
   "execution_count": null,
   "metadata": {},
   "outputs": [],
   "source": [
    "img.size"
   ]
  },
  {
   "cell_type": "code",
   "execution_count": null,
   "metadata": {},
   "outputs": [],
   "source": [
    "lbl.size"
   ]
  },
  {
   "cell_type": "code",
   "execution_count": null,
   "metadata": {},
   "outputs": [],
   "source": [
    "type(dataset_train)"
   ]
  },
  {
   "cell_type": "code",
   "execution_count": null,
   "metadata": {},
   "outputs": [],
   "source": []
  }
 ],
 "metadata": {
  "kernelspec": {
   "display_name": "Python 3",
   "language": "python",
   "name": "python3"
  },
  "language_info": {
   "codemirror_mode": {
    "name": "ipython",
    "version": 3
   },
   "file_extension": ".py",
   "mimetype": "text/x-python",
   "name": "python",
   "nbconvert_exporter": "python",
   "pygments_lexer": "ipython3",
   "version": "3.7.3"
  }
 },
 "nbformat": 4,
 "nbformat_minor": 2
}
